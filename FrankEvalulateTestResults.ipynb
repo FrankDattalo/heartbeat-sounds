{
 "cells": [
  {
   "cell_type": "code",
   "execution_count": 2,
   "metadata": {},
   "outputs": [],
   "source": [
    "import pandas as pd\n",
    "import os"
   ]
  },
  {
   "cell_type": "code",
   "execution_count": 3,
   "metadata": {},
   "outputs": [],
   "source": [
    "myResults = pd.read_csv('./HumanTestFrank.csv')\n",
    "answerKey = pd.read_csv('./humanTestAnswerKey.csv')"
   ]
  },
  {
   "cell_type": "code",
   "execution_count": 4,
   "metadata": {},
   "outputs": [],
   "source": [
    "def getClassFromName(row):\n",
    "    name = row['oldName']\n",
    "    if \"extrastole\" in name: return 'Systole'\n",
    "    if \"murmur\" in name: return 'Murmur'\n",
    "    if \"normal\" in name: return 'Normal'\n",
    "    raise Exception('This should not happen')"
   ]
  },
  {
   "cell_type": "code",
   "execution_count": 5,
   "metadata": {},
   "outputs": [],
   "source": [
    "def getGuess(row):\n",
    "    if row['Normal'] == 1: return 'Normal'\n",
    "    if row['Systole'] == 1: return 'Systole'\n",
    "    if row['Murmur'] == 1: return 'Murmur'\n",
    "    raise Exception('This should not happen')"
   ]
  },
  {
   "cell_type": "code",
   "execution_count": 11,
   "metadata": {},
   "outputs": [],
   "source": [
    "tp = 0\n",
    "tn = 0\n",
    "fp = 0\n",
    "fn = 0\n",
    "\n",
    "for i in range(len(myResults)):\n",
    "    prediction = getGuess(myResults.iloc[i])\n",
    "    label = getClassFromName(answerKey.iloc[i])\n",
    "    \n",
    "    labelIsAbnormal = label != 'Normal'\n",
    "    predictionIsAbnormal = prediction in ['Murmur', 'Systole']\n",
    "    \n",
    "    if labelIsAbnormal:\n",
    "        if predictionIsAbnormal:\n",
    "            tp += 1\n",
    "        else:\n",
    "            fn += 1\n",
    "    else:\n",
    "        if predictionIsAbnormal:\n",
    "            fp += 1\n",
    "        else:\n",
    "            tn += 1"
   ]
  },
  {
   "cell_type": "code",
   "execution_count": 12,
   "metadata": {},
   "outputs": [
    {
     "name": "stdout",
     "output_type": "stream",
     "text": [
      "Tp: 11\n",
      "Tn: 30\n",
      "Fp: 22\n",
      "Fn: 7\n"
     ]
    }
   ],
   "source": [
    "print(\"Tp:\", tp)\n",
    "print(\"Tn:\", tn)\n",
    "print(\"Fp:\", fp)\n",
    "print(\"Fn:\", fn)"
   ]
  },
  {
   "cell_type": "code",
   "execution_count": 16,
   "metadata": {},
   "outputs": [],
   "source": [
    "acc = (tp + tn) / (tp + tn + fp + fn)\n",
    "prec = (tp) / (tp + fp)\n",
    "rec = (tp) / (tp + fn)\n",
    "f1 = (2 * rec * prec) / (prec + rec)"
   ]
  },
  {
   "cell_type": "code",
   "execution_count": 17,
   "metadata": {},
   "outputs": [
    {
     "name": "stdout",
     "output_type": "stream",
     "text": [
      "Acc 0.5857142857142857\n",
      "Prec 0.3333333333333333\n",
      "Rec 0.6111111111111112\n",
      "f1 0.43137254901960786\n"
     ]
    }
   ],
   "source": [
    "print(\"Acc\", acc)\n",
    "print(\"Prec\", prec)\n",
    "print(\"Rec\", rec)\n",
    "print(\"f1\", f1)"
   ]
  },
  {
   "cell_type": "code",
   "execution_count": null,
   "metadata": {},
   "outputs": [],
   "source": []
  }
 ],
 "metadata": {
  "kernelspec": {
   "display_name": "Python 3",
   "language": "python",
   "name": "python3"
  },
  "language_info": {
   "codemirror_mode": {
    "name": "ipython",
    "version": 3
   },
   "file_extension": ".py",
   "mimetype": "text/x-python",
   "name": "python",
   "nbconvert_exporter": "python",
   "pygments_lexer": "ipython3",
   "version": "3.6.4"
  }
 },
 "nbformat": 4,
 "nbformat_minor": 2
}
