{
 "cells": [
  {
   "cell_type": "code",
   "execution_count": 1,
   "metadata": {},
   "outputs": [],
   "source": [
    "import pandas as pd\n",
    "import os"
   ]
  },
  {
   "cell_type": "code",
   "execution_count": 2,
   "metadata": {},
   "outputs": [],
   "source": [
    "myResults = pd.read_csv('./HumanTestFrank.csv')\n",
    "answerKey = pd.read_csv('./humanTestAnswerKey.csv')"
   ]
  },
  {
   "cell_type": "code",
   "execution_count": 17,
   "metadata": {},
   "outputs": [],
   "source": [
    "def getClassFromName(row):\n",
    "    name = row['oldName']\n",
    "    if \"extrastole\" in name: return 'Systole'\n",
    "    if \"murmur\" in name: return 'Murmur'\n",
    "    if \"normal\" in name: return 'Normal'\n",
    "    raise Exception('This should not happen')"
   ]
  },
  {
   "cell_type": "code",
   "execution_count": 18,
   "metadata": {},
   "outputs": [],
   "source": [
    "def getGuess(row):\n",
    "    if row['Normal'] == 1: return 'Normal'\n",
    "    if row['Systole'] == 1: return 'Systole'\n",
    "    if row['Murmur'] == 1: return 'Murmur'\n",
    "    raise Exception('This should not happen')"
   ]
  },
  {
   "cell_type": "code",
   "execution_count": 22,
   "metadata": {},
   "outputs": [
    {
     "name": "stdout",
     "output_type": "stream",
     "text": [
      "0 was wrong. Guessed Systole for Normal\n",
      "2 was wrong. Guessed Systole for Normal\n",
      "4 was wrong. Guessed Systole for Normal\n",
      "5 was wrong. Guessed Murmur for Normal\n",
      "6 was wrong. Guessed Normal for Murmur\n",
      "9 was wrong. Guessed Systole for Normal\n",
      "10 was wrong. Guessed Murmur for Normal\n",
      "11 was wrong. Guessed Normal for Murmur\n",
      "16 was wrong. Guessed Normal for Systole\n",
      "17 was wrong. Guessed Systole for Normal\n",
      "21 was wrong. Guessed Systole for Murmur\n",
      "22 was wrong. Guessed Systole for Murmur\n",
      "23 was wrong. Guessed Systole for Normal\n",
      "27 was wrong. Guessed Murmur for Normal\n",
      "29 was wrong. Guessed Murmur for Normal\n",
      "31 was wrong. Guessed Systole for Normal\n",
      "32 was wrong. Guessed Systole for Normal\n",
      "34 was wrong. Guessed Systole for Normal\n",
      "37 was wrong. Guessed Systole for Murmur\n",
      "38 was wrong. Guessed Systole for Normal\n",
      "39 was wrong. Guessed Normal for Murmur\n",
      "40 was wrong. Guessed Murmur for Systole\n",
      "43 was wrong. Guessed Systole for Normal\n",
      "46 was wrong. Guessed Systole for Murmur\n",
      "47 was wrong. Guessed Normal for Murmur\n",
      "48 was wrong. Guessed Normal for Systole\n",
      "49 was wrong. Guessed Systole for Normal\n",
      "53 was wrong. Guessed Systole for Normal\n",
      "54 was wrong. Guessed Systole for Normal\n",
      "55 was wrong. Guessed Systole for Normal\n",
      "56 was wrong. Guessed Systole for Murmur\n",
      "60 was wrong. Guessed Systole for Normal\n",
      "62 was wrong. Guessed Normal for Murmur\n",
      "65 was wrong. Guessed Systole for Murmur\n",
      "66 was wrong. Guessed Systole for Normal\n",
      "69 was wrong. Guessed Murmur for Normal\n"
     ]
    }
   ],
   "source": [
    "normalCorrect = 0\n",
    "systoleCorrect = 0\n",
    "murmurCorrect = 0\n",
    "binaryCorrect = 0\n",
    "\n",
    "for i in range(len(myResults)):\n",
    "    prediction = getGuess(myResults.iloc[i])\n",
    "    label = getClassFromName(answerKey.iloc[i])\n",
    "    \n",
    "    if prediction != label:\n",
    "        print(i, 'was wrong. Guessed', prediction, 'for', label)\n",
    "    \n",
    "    if label == prediction or (label != 'Normal' and prediction in ['Normal', 'Systole']):\n",
    "        binaryCorrect += 1\n",
    "    \n",
    "    if label == prediction:\n",
    "        if label == 'Normal':\n",
    "            normalCorrect += 1\n",
    "        elif label == 'Systole':\n",
    "            systoleCorrect += 1\n",
    "        elif label == 'Murmur':\n",
    "            murmurCorrect += 1\n",
    "        else:\n",
    "            raise Exception('This should not happen')\n",
    "    "
   ]
  },
  {
   "cell_type": "code",
   "execution_count": 27,
   "metadata": {},
   "outputs": [
    {
     "name": "stdout",
     "output_type": "stream",
     "text": [
      "Normal Correct: 30\n",
      "Systole Correct: 2\n",
      "Murmur Correct:  2\n",
      "Binary Correct: 47\n"
     ]
    }
   ],
   "source": [
    "print('Normal Correct:', normalCorrect)\n",
    "print('Systole Correct:', systoleCorrect)\n",
    "print('Murmur Correct: ', murmurCorrect)\n",
    "print('Binary Correct:', binaryCorrect)"
   ]
  },
  {
   "cell_type": "code",
   "execution_count": 28,
   "metadata": {},
   "outputs": [
    {
     "name": "stdout",
     "output_type": "stream",
     "text": [
      "Normal Acc: 0.42857142857142855\n",
      "Systole Acc: 0.02857142857142857\n",
      "Murmur Acc:  0.02857142857142857\n",
      "Binary Acc: 0.6714285714285714\n"
     ]
    }
   ],
   "source": [
    "print('Normal Acc:', normalCorrect / 70)\n",
    "print('Systole Acc:', systoleCorrect / 70)\n",
    "print('Murmur Acc: ', murmurCorrect / 70)\n",
    "print('Binary Acc:', binaryCorrect / 70)"
   ]
  },
  {
   "cell_type": "code",
   "execution_count": null,
   "metadata": {},
   "outputs": [],
   "source": []
  }
 ],
 "metadata": {
  "kernelspec": {
   "display_name": "Python 3",
   "language": "python",
   "name": "python3"
  },
  "language_info": {
   "codemirror_mode": {
    "name": "ipython",
    "version": 3
   },
   "file_extension": ".py",
   "mimetype": "text/x-python",
   "name": "python",
   "nbconvert_exporter": "python",
   "pygments_lexer": "ipython3",
   "version": "3.6.4"
  }
 },
 "nbformat": 4,
 "nbformat_minor": 2
}
