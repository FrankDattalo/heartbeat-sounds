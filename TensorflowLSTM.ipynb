{
 "cells": [
  {
   "cell_type": "code",
   "execution_count": 1,
   "metadata": {},
   "outputs": [
    {
     "name": "stderr",
     "output_type": "stream",
     "text": [
      "Using TensorFlow backend.\n"
     ]
    }
   ],
   "source": [
    "import numpy as np\n",
    "import os\n",
    "import scipy.io.wavfile as wavfile\n",
    "import pandas as pd\n",
    "import sklearn.model_selection\n",
    "import keras"
   ]
  },
  {
   "cell_type": "code",
   "execution_count": 2,
   "metadata": {},
   "outputs": [],
   "source": [
    "def loadDataframe(directory):\n",
    "    fileNames = [directory + item \n",
    "                 for item in os.listdir(directory)\n",
    "                 if \"wav\" in item and \"unlabel\" not in item]\n",
    "    \n",
    "    data = [wavfile.read(fileName) for fileName in fileNames]\n",
    "    \n",
    "    zipped = [(fileName, sampleFrequency, data) \n",
    "              for fileName, (sampleFrequency, data) \n",
    "              in zip(fileNames, data)]\n",
    "    \n",
    "    df = pd.DataFrame(columns=['fileName', 'data', 'sampleFrequency', 'label', 'dataLength'])\n",
    "    \n",
    "    df['fileName'] = [i[0] for i in zipped]\n",
    "    df['sampleFrequency'] = [i[1] for i in zipped]\n",
    "    df['data'] = [i[2] for i in zipped]\n",
    "    df['label'] = df['fileName'].apply(lambda x: 'normal' in x).astype(int)\n",
    "    df['dataLength'] = df['data'].apply(len)\n",
    "    \n",
    "    return df\n",
    "\n",
    "def loadXY(directory):\n",
    "    df = loadDataframe(directory)\n",
    "    \n",
    "    arr = np.array(df)\n",
    "    \n",
    "    sortedBySize = sorted(arr, key=lambda x: x[4], reverse=True)\n",
    "    \n",
    "    lengths = [item[4] for item in sortedBySize]\n",
    "    data = [item[1] for item in sortedBySize]\n",
    "    labels = [item[3] for item in sortedBySize]\n",
    "    \n",
    "    examples = len(arr)\n",
    "    maxLength = max(lengths)\n",
    "    \n",
    "    x = np.zeros([examples, maxLength, 1])\n",
    "    y = np.zeros([examples, 1])\n",
    "    \n",
    "    for i, item in enumerate(data):\n",
    "        x[i, -len(item):, 0] = item\n",
    "        y[i] = labels[i]\n",
    "    \n",
    "    return x, y, examples, maxLength"
   ]
  },
  {
   "cell_type": "code",
   "execution_count": 3,
   "metadata": {},
   "outputs": [],
   "source": [
    "x, y, examples, maxLength = loadXY('./heartbeat-sounds/set_b/')"
   ]
  },
  {
   "cell_type": "code",
   "execution_count": 4,
   "metadata": {},
   "outputs": [],
   "source": [
    "model = keras.models.Sequential()\n",
    "\n",
    "model.add(keras.layers.LSTM(32, input_shape=(maxLength, 1)))\n",
    "model.add(keras.layers.Dense(1))\n",
    "model.add(keras.layers.Activation('sigmoid'))\n",
    "\n",
    "model.compile(loss='binary_crossentropy', \n",
    "              optimizer='adam', \n",
    "              metrics=['accuracy'])"
   ]
  },
  {
   "cell_type": "code",
   "execution_count": null,
   "metadata": {},
   "outputs": [
    {
     "name": "stdout",
     "output_type": "stream",
     "text": [
      "Train on 345 samples, validate on 116 samples\n",
      "Epoch 1/1\n",
      "128/345 [==========>...................] - ETA: 19:54 - loss: 0.6860 - acc: 0.5625"
     ]
    }
   ],
   "source": [
    "model.fit(x, y, validation_split=0.25)"
   ]
  },
  {
   "cell_type": "code",
   "execution_count": null,
   "metadata": {},
   "outputs": [],
   "source": []
  }
 ],
 "metadata": {
  "kernelspec": {
   "display_name": "Python 3",
   "language": "python",
   "name": "python3"
  },
  "language_info": {
   "codemirror_mode": {
    "name": "ipython",
    "version": 3
   },
   "file_extension": ".py",
   "mimetype": "text/x-python",
   "name": "python",
   "nbconvert_exporter": "python",
   "pygments_lexer": "ipython3",
   "version": "3.6.4"
  }
 },
 "nbformat": 4,
 "nbformat_minor": 2
}
